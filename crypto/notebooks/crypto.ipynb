{
 "cells": [
  {
   "cell_type": "markdown",
   "id": "wireless-metallic",
   "metadata": {},
   "source": [
    "# Crypto currency price history\n",
    "\n",
    "## Get started\n",
    "\n",
    "> **Note**: this notebook uses python 3 as kernel\n",
    "\n",
    "This notebook assumes the data is already downloaded and stored at ../data/raw\n",
    "\n",
    "if not, execute the next:\n",
    "\n",
    "`python ../src/data/get_dataset.py ../data/raw`\n",
    "\n",
    "## 1. Read data"
   ]
  },
  {
   "cell_type": "code",
   "execution_count": 4,
   "id": "blank-moldova",
   "metadata": {},
   "outputs": [],
   "source": [
    "from pathlib import Path\n",
    "import pandas as pd\n",
    "import pickle as pkl"
   ]
  },
  {
   "cell_type": "code",
   "execution_count": 2,
   "id": "understanding-chinese",
   "metadata": {},
   "outputs": [],
   "source": [
    "def read_data():\n",
    "    REL_PATH = Path().glob(\"../data/raw/cryptocurrencypricehistory/*.csv\") # working with .csv files\n",
    "    \n",
    "    # two kind of files: datasets and price (classification based on its inner data and structure)\n",
    "    data = dict() # init data structure\n",
    "    \n",
    "    for file in REL_PATH:\n",
    "        df = pd.read_csv(file)\n",
    "        filename, kind = Path(file).stem.rsplit(\"_\", 1) # based on the .csv filenames format\n",
    "        \n",
    "        df[\"Crypto\"] = pd.Series([filename] * df.shape[0], dtype=pd.StringDtype()) # to identify each record\n",
    "        data.setdefault(kind, list()).append(df) # data['price'].append(df) if kind == 'price' else data['datasets'].append(df)\n",
    "        \n",
    "        pkl.dump(data, open('../data/interim/crypto.pkl', 'wb'), protocol=pkl.HIGHEST_PROTOCOL) # save read data\n",
    "    \n",
    "    return data\n",
    "\n",
    "data = pkl.load(open('../data/interim/crypto.pkl', 'rb')) if Path(\"../data/interim/crypto.pkl\").is_file() else read_data()"
   ]
  },
  {
   "cell_type": "code",
   "execution_count": 3,
   "id": "foreign-charity",
   "metadata": {},
   "outputs": [
    {
     "name": "stdout",
     "output_type": "stream",
     "text": [
      "<class 'pandas.core.frame.DataFrame'>\n",
      "RangeIndex: 45 entries, 0 to 44\n",
      "Data columns (total 8 columns):\n",
      " #   Column      Non-Null Count  Dtype  \n",
      "---  ------      --------------  -----  \n",
      " 0   Date        45 non-null     object \n",
      " 1   Open        45 non-null     float64\n",
      " 2   High        45 non-null     float64\n",
      " 3   Low         45 non-null     float64\n",
      " 4   Close       45 non-null     float64\n",
      " 5   Volume      45 non-null     object \n",
      " 6   Market Cap  45 non-null     object \n",
      " 7   Crypto      45 non-null     string \n",
      "dtypes: float64(4), object(3), string(1)\n",
      "memory usage: 2.9+ KB\n"
     ]
    },
    {
     "data": {
      "text/html": [
       "<div>\n",
       "<style scoped>\n",
       "    .dataframe tbody tr th:only-of-type {\n",
       "        vertical-align: middle;\n",
       "    }\n",
       "\n",
       "    .dataframe tbody tr th {\n",
       "        vertical-align: top;\n",
       "    }\n",
       "\n",
       "    .dataframe thead th {\n",
       "        text-align: right;\n",
       "    }\n",
       "</style>\n",
       "<table border=\"1\" class=\"dataframe\">\n",
       "  <thead>\n",
       "    <tr style=\"text-align: right;\">\n",
       "      <th></th>\n",
       "      <th>Date</th>\n",
       "      <th>Open</th>\n",
       "      <th>High</th>\n",
       "      <th>Low</th>\n",
       "      <th>Close</th>\n",
       "      <th>Volume</th>\n",
       "      <th>Market Cap</th>\n",
       "      <th>Crypto</th>\n",
       "    </tr>\n",
       "  </thead>\n",
       "  <tbody>\n",
       "    <tr>\n",
       "      <th>0</th>\n",
       "      <td>Sep 05, 2017</td>\n",
       "      <td>514.90</td>\n",
       "      <td>550.95</td>\n",
       "      <td>458.78</td>\n",
       "      <td>541.71</td>\n",
       "      <td>338,978,000</td>\n",
       "      <td>8,527,100,000</td>\n",
       "      <td>bitcoin_cash</td>\n",
       "    </tr>\n",
       "    <tr>\n",
       "      <th>1</th>\n",
       "      <td>Sep 04, 2017</td>\n",
       "      <td>608.26</td>\n",
       "      <td>608.26</td>\n",
       "      <td>500.75</td>\n",
       "      <td>517.24</td>\n",
       "      <td>328,957,000</td>\n",
       "      <td>10,072,200,000</td>\n",
       "      <td>bitcoin_cash</td>\n",
       "    </tr>\n",
       "    <tr>\n",
       "      <th>2</th>\n",
       "      <td>Sep 03, 2017</td>\n",
       "      <td>578.27</td>\n",
       "      <td>617.41</td>\n",
       "      <td>563.59</td>\n",
       "      <td>607.43</td>\n",
       "      <td>344,862,000</td>\n",
       "      <td>9,574,520,000</td>\n",
       "      <td>bitcoin_cash</td>\n",
       "    </tr>\n",
       "    <tr>\n",
       "      <th>3</th>\n",
       "      <td>Sep 02, 2017</td>\n",
       "      <td>621.96</td>\n",
       "      <td>642.05</td>\n",
       "      <td>560.58</td>\n",
       "      <td>575.90</td>\n",
       "      <td>350,478,000</td>\n",
       "      <td>10,297,000,000</td>\n",
       "      <td>bitcoin_cash</td>\n",
       "    </tr>\n",
       "    <tr>\n",
       "      <th>4</th>\n",
       "      <td>Sep 01, 2017</td>\n",
       "      <td>588.40</td>\n",
       "      <td>645.52</td>\n",
       "      <td>586.73</td>\n",
       "      <td>622.17</td>\n",
       "      <td>393,839,000</td>\n",
       "      <td>9,740,460,000</td>\n",
       "      <td>bitcoin_cash</td>\n",
       "    </tr>\n",
       "  </tbody>\n",
       "</table>\n",
       "</div>"
      ],
      "text/plain": [
       "           Date    Open    High     Low   Close       Volume      Market Cap  \\\n",
       "0  Sep 05, 2017  514.90  550.95  458.78  541.71  338,978,000   8,527,100,000   \n",
       "1  Sep 04, 2017  608.26  608.26  500.75  517.24  328,957,000  10,072,200,000   \n",
       "2  Sep 03, 2017  578.27  617.41  563.59  607.43  344,862,000   9,574,520,000   \n",
       "3  Sep 02, 2017  621.96  642.05  560.58  575.90  350,478,000  10,297,000,000   \n",
       "4  Sep 01, 2017  588.40  645.52  586.73  622.17  393,839,000   9,740,460,000   \n",
       "\n",
       "         Crypto  \n",
       "0  bitcoin_cash  \n",
       "1  bitcoin_cash  \n",
       "2  bitcoin_cash  \n",
       "3  bitcoin_cash  \n",
       "4  bitcoin_cash  "
      ]
     },
     "execution_count": 3,
     "metadata": {},
     "output_type": "execute_result"
    }
   ],
   "source": [
    "data['price'][0].info() # get first feedback from the data structure\n",
    "data['price'][0].head()"
   ]
  },
  {
   "cell_type": "markdown",
   "id": "coupled-maximum",
   "metadata": {},
   "source": [
    "## 2. Clean Data"
   ]
  },
  {
   "cell_type": "code",
   "execution_count": null,
   "id": "greatest-convergence",
   "metadata": {},
   "outputs": [],
   "source": [
    "pd.options.mode.chained_assignment = None  # avoid default='warn'\n",
    "\n",
    "def parse_num(x):\n",
    "    return x.replace(',','') if type(x) is str else x\n",
    "\n",
    "def clean(df):\n",
    "    df.Date = pd.to_datetime(df.Date, format=\"%b %d, %Y\")\n",
    "    df = df.loc[(df[\"Market Cap\"] != '-') & (df[\"Volume\"] != '-')]\n",
    "    df.Volume = df.Volume.apply(lambda x: parse_num(x)).astype('int64')\n",
    "    df[\"Market Cap\"] = df[\"Market Cap\"].apply(lambda x: parse_num(x)).astype('int64')\n",
    "    return df\n",
    "\n",
    "data['price'] = list(map(clean, data['price']))\n",
    "data['price'][0].info()\n"
   ]
  },
  {
   "cell_type": "markdown",
   "id": "racial-monaco",
   "metadata": {},
   "source": [
    "### 2.2 Generate Profile Report\n",
    "As we cleaned the data just by observing the dataframes format, then we want to get deeper running a complete report\n",
    "Better way to get more information"
   ]
  },
  {
   "cell_type": "code",
   "execution_count": null,
   "id": "alpine-angle",
   "metadata": {},
   "outputs": [],
   "source": [
    "import seaborn as sns\n",
    "import matplotlib.pyplot as plt\n",
    "from pandas_profiling import ProfileReport\n",
    "\n",
    "REP_PATH = \"../reports/\""
   ]
  },
  {
   "cell_type": "code",
   "execution_count": null,
   "id": "interpreted-dynamics",
   "metadata": {},
   "outputs": [],
   "source": [
    "def report(df, output, sub_dir=\"\"):\n",
    "    profile = ProfileReport(df, title=\"Pandas Profiling Report {}\".format(output), explorative=False, progress_bar=False)\n",
    "    profile.to_widgets()\n",
    "    \n",
    "    directory = Path(REP_PATH + sub_dir).joinpath(output)\n",
    "    directory.mkdir(parents=True, exist_ok=True)\n",
    "    profile.to_file(directory.joinpath(output + \".html\"))\n",
    "    profile.to_file(directory.joinpath(output + \".json\"))\n",
    "\n",
    "[report(df, df['Crypto'][0], \"price\") for df in data['price']]\n"
   ]
  },
  {
   "cell_type": "code",
   "execution_count": null,
   "id": "composed-growth",
   "metadata": {},
   "outputs": [],
   "source": [
    "dff = pd.concat(data['price'], axis=0) # as the tables have the same format and relates to the same info"
   ]
  },
  {
   "cell_type": "code",
   "execution_count": null,
   "id": "golden-interim",
   "metadata": {},
   "outputs": [],
   "source": [
    "sns_plot = sns.pairplot(dff, hue=\"Crypto\")\n",
    "sns_plot.savefig(REP_PATH + \"figures/\" + \"crypto.png\")"
   ]
  },
  {
   "cell_type": "code",
   "execution_count": null,
   "id": "strong-dover",
   "metadata": {},
   "outputs": [],
   "source": [
    "fig, ax = plt.subplots()\n",
    "for key, grp in dff.groupby(['Crypto']):\n",
    "    ax = grp.plot(ax=ax, kind='line', x='Date', y='Close', label=key)\n",
    "\n",
    "ax.figure.savefig(REP_PATH + \"figures/\" + \"crypto2.png\")"
   ]
  },
  {
   "cell_type": "code",
   "execution_count": null,
   "id": "legitimate-atlas",
   "metadata": {
    "scrolled": true
   },
   "outputs": [],
   "source": [
    "df_bitcoin = data['dataset'][0]\n",
    "df_bitcoin.info()\n",
    "df_bitcoin.head()"
   ]
  },
  {
   "cell_type": "code",
   "execution_count": null,
   "id": "broad-school",
   "metadata": {},
   "outputs": [],
   "source": [
    "df_bitcoin.Date = pd.to_datetime(df_bitcoin.Date, format = \"%Y-%m-%d %H:%M:%S\")\n",
    "df_bitcoin = df_bitcoin.rename(columns={'btc_market_price': 'Price'})\n",
    "df_bitcoin.isna().sum()\n",
    "df_bitcoin = df_bitcoin.fillna(0)\n",
    "\n",
    "data['dataset'][0] = df_bitcoin\n",
    "data['dataset'][0].head()"
   ]
  },
  {
   "cell_type": "code",
   "execution_count": null,
   "id": "clinical-charm",
   "metadata": {},
   "outputs": [],
   "source": [
    "df_ethereum = data['dataset'][1]\n",
    "df_ethereum.info()\n",
    "df_ethereum.head()"
   ]
  },
  {
   "cell_type": "code",
   "execution_count": null,
   "id": "polished-folder",
   "metadata": {},
   "outputs": [],
   "source": [
    "df_ethereum = df_ethereum.rename(columns={'Date(UTC)': 'Date'})\n",
    "df_ethereum = df_ethereum.rename(columns={'eth_etherprice': 'Price'})\n",
    "df_ethereum.Date = pd.to_datetime(df_ethereum.Date, format = \"%m/%d/%Y\")\n",
    "df_ethereum.isna().sum()\n",
    "df_ethereum = df_ethereum.drop('eth_chaindatasize', 1)\n",
    "df_ethereum = df_ethereum.fillna(0)\n",
    "\n",
    "data['dataset'][1] = df_ethereum\n",
    "data['dataset'][1].info()"
   ]
  },
  {
   "cell_type": "code",
   "execution_count": null,
   "id": "australian-fortune",
   "metadata": {},
   "outputs": [],
   "source": [
    "[report(df, df['Crypto'][0], \"dataset\") for df in data['dataset']]"
   ]
  },
  {
   "cell_type": "code",
   "execution_count": null,
   "id": "biological-coupon",
   "metadata": {},
   "outputs": [],
   "source": [
    "dff = pd.concat(data['dataset'], axis=0) # sha de canviar\n",
    "dff.info()\n",
    "dff.head()"
   ]
  },
  {
   "cell_type": "code",
   "execution_count": null,
   "id": "differential-complexity",
   "metadata": {
    "scrolled": true
   },
   "outputs": [],
   "source": [
    "fig, ax = plt.subplots()\n",
    "for key, grp in dff.groupby(['Crypto']):\n",
    "    ax = grp.plot(ax=ax, kind='line', x='Date', y='Price', label=key)\n",
    "\n",
    "ax.figure.savefig(REP_PATH + \"figures/\" + \"price_comparison_btc_eth.png\")"
   ]
  },
  {
   "cell_type": "code",
   "execution_count": null,
   "id": "jewish-court",
   "metadata": {},
   "outputs": [],
   "source": [
    "pkl.dump(data, open('../data/processed/crypto.pkl', 'wb'), protocol=pkl.HIGHEST_PROTOCOL) # save cleaned data"
   ]
  }
 ],
 "metadata": {
  "kernelspec": {
   "display_name": "Python 3",
   "language": "python",
   "name": "python3"
  },
  "language_info": {
   "codemirror_mode": {
    "name": "ipython",
    "version": 3
   },
   "file_extension": ".py",
   "mimetype": "text/x-python",
   "name": "python",
   "nbconvert_exporter": "python",
   "pygments_lexer": "ipython3",
   "version": "3.9.0"
  }
 },
 "nbformat": 4,
 "nbformat_minor": 5
}
