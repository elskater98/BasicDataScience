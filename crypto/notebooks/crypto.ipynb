{
 "cells": [
  {
   "cell_type": "markdown",
   "id": "wireless-metallic",
   "metadata": {},
   "source": [
    "# Crypto currency price history\n",
    "\n",
    "## Get started\n",
    "\n",
    "> **Note**: this notebook uses python 3 as kernel\n",
    "\n",
    "This notebook assumes the data is already downloaded and stored at `../data/raw`\n",
    "\n",
    "if not, execute the next:\n",
    "\n",
    "`python ../src/data/get_dataset.py`\n",
    "\n",
    "\n",
    "## 1. Read data"
   ]
  },
  {
   "cell_type": "code",
   "execution_count": null,
   "id": "blank-moldova",
   "metadata": {},
   "outputs": [],
   "source": [
    "from pathlib import Path\n",
    "import pandas as pd\n",
    "import pickle as pkl"
   ]
  },
  {
   "cell_type": "code",
   "execution_count": null,
   "id": "understanding-chinese",
   "metadata": {},
   "outputs": [],
   "source": [
    "def read_data():\n",
    "    REL_PATH = Path().glob(\"../data/raw/cryptocurrencypricehistory/*.csv\") # working with .csv files\n",
    "    \n",
    "    # two kind of files: datasets and price (classification based on its inner data and structure)\n",
    "    data = dict() # init data structure\n",
    "    \n",
    "    for file in REL_PATH:\n",
    "        df = pd.read_csv(file)\n",
    "        filename, kind = Path(file).stem.rsplit(\"_\", 1) # based on the .csv filenames format\n",
    "        \n",
    "        df[\"Crypto\"] = pd.Series([filename] * df.shape[0], dtype=pd.StringDtype()) # to identify each record\n",
    "        data.setdefault(kind, list()).append(df) # data['price'].append(df) if kind == 'price' else data['datasets'].append(df)\n",
    "        \n",
    "        pkl.dump(data, open('../data/interim/crypto.pkl', 'wb'), protocol=pkl.HIGHEST_PROTOCOL) # save read data\n",
    "    \n",
    "    return data\n",
    "\n",
    "data = pkl.load(open('../data/interim/crypto.pkl', 'rb')) if Path(\"../data/interim/crypto.pkl\").is_file() else read_data()"
   ]
  },
  {
   "cell_type": "code",
   "execution_count": null,
   "id": "foreign-charity",
   "metadata": {},
   "outputs": [],
   "source": [
    "data['price'][0].info() # get first feedback from the data structure\n",
    "data['price'][0].head()"
   ]
  },
  {
   "cell_type": "markdown",
   "id": "coupled-maximum",
   "metadata": {},
   "source": [
    "## 2. Clean Data"
   ]
  },
  {
   "cell_type": "code",
   "execution_count": null,
   "id": "greatest-convergence",
   "metadata": {},
   "outputs": [],
   "source": [
    "pd.options.mode.chained_assignment = None  # avoid default='warn'\n",
    "\n",
    "def parse_num(x):\n",
    "    return x.replace(',','') if type(x) is str else x\n",
    "\n",
    "def clean(df):\n",
    "    df.Date = pd.to_datetime(df.Date, format=\"%b %d, %Y\")\n",
    "    df = df.loc[(df[\"Market Cap\"] != '-') & (df[\"Volume\"] != '-')]\n",
    "    df.Volume = df.Volume.apply(lambda x: parse_num(x)).astype('int64')\n",
    "    df[\"Market Cap\"] = df[\"Market Cap\"].apply(lambda x: parse_num(x)).astype('int64')\n",
    "    return df\n",
    "\n",
    "data['price'] = list(map(clean, data['price']))\n",
    "data['price'][0].info()\n"
   ]
  },
  {
   "cell_type": "markdown",
   "id": "racial-monaco",
   "metadata": {},
   "source": [
    "### 2.2 Generate Profile Report\n",
    "As we cleaned the data just by observing the dataframes format, then we want to get deeper running a complete report\n",
    "Better way to get more information"
   ]
  },
  {
   "cell_type": "code",
   "execution_count": null,
   "id": "alpine-angle",
   "metadata": {},
   "outputs": [],
   "source": [
    "import seaborn as sns\n",
    "import matplotlib.pyplot as plt\n",
    "from pandas_profiling import ProfileReport\n",
    "\n",
    "REP_PATH = \"../reports/\""
   ]
  },
  {
   "cell_type": "code",
   "execution_count": null,
   "id": "interpreted-dynamics",
   "metadata": {},
   "outputs": [],
   "source": [
    "def report(df, output, sub_dir=\"\"):\n",
    "    profile = ProfileReport(df, title=\"Pandas Profiling Report {}\".format(output), explorative=False, progress_bar=False)\n",
    "    profile.to_widgets()\n",
    "    \n",
    "    directory = Path(REP_PATH + sub_dir).joinpath(output)\n",
    "    directory.mkdir(parents=True, exist_ok=True)\n",
    "    profile.to_file(directory.joinpath(output + \".html\"))\n",
    "    profile.to_file(directory.joinpath(output + \".json\"))\n",
    "\n",
    "[report(df, df['Crypto'][0], \"price\") for df in data['price']]\n"
   ]
  },
  {
   "cell_type": "code",
   "execution_count": null,
   "id": "composed-growth",
   "metadata": {},
   "outputs": [],
   "source": [
    "dff = pd.concat(data['price'], axis=0) # as the tables have the same format and relates to the same info"
   ]
  },
  {
   "cell_type": "code",
   "execution_count": null,
   "id": "golden-interim",
   "metadata": {},
   "outputs": [],
   "source": [
    "sns_plot = sns.pairplot(dff, hue=\"Crypto\")\n",
    "sns_plot.savefig(REP_PATH + \"figures/\" + \"crypto.png\")"
   ]
  },
  {
   "cell_type": "code",
   "execution_count": null,
   "id": "strong-dover",
   "metadata": {},
   "outputs": [],
   "source": [
    "fig, ax = plt.subplots()\n",
    "for key, grp in dff.groupby(['Crypto']):\n",
    "    ax = grp.plot(ax=ax, kind='line', x='Date', y='Close', label=key)\n",
    "\n",
    "ax.figure.savefig(REP_PATH + \"figures/\" + \"crypto2.png\")"
   ]
  },
  {
   "cell_type": "code",
   "execution_count": null,
   "id": "legitimate-atlas",
   "metadata": {
    "scrolled": true
   },
   "outputs": [],
   "source": [
    "df_bitcoin = data['dataset'][0]\n",
    "df_bitcoin.info()\n",
    "df_bitcoin.head()"
   ]
  },
  {
   "cell_type": "code",
   "execution_count": null,
   "id": "broad-school",
   "metadata": {},
   "outputs": [],
   "source": [
    "df_bitcoin.Date = pd.to_datetime(df_bitcoin.Date, format = \"%Y-%m-%d %H:%M:%S\")\n",
    "df_bitcoin = df_bitcoin.rename(columns={'btc_market_price': 'Price'})\n",
    "df_bitcoin.isna().sum()\n",
    "df_bitcoin = df_bitcoin.fillna(0)\n",
    "\n",
    "data['dataset'][0] = df_bitcoin\n",
    "data['dataset'][0].head()"
   ]
  },
  {
   "cell_type": "code",
   "execution_count": null,
   "id": "clinical-charm",
   "metadata": {},
   "outputs": [],
   "source": [
    "df_ethereum = data['dataset'][1]\n",
    "df_ethereum.info()\n",
    "df_ethereum.head()"
   ]
  },
  {
   "cell_type": "code",
   "execution_count": null,
   "id": "polished-folder",
   "metadata": {},
   "outputs": [],
   "source": [
    "df_ethereum = df_ethereum.rename(columns={'Date(UTC)': 'Date'})\n",
    "df_ethereum = df_ethereum.rename(columns={'eth_etherprice': 'Price'})\n",
    "df_ethereum.Date = pd.to_datetime(df_ethereum.Date, format = \"%m/%d/%Y\")\n",
    "df_ethereum.isna().sum()\n",
    "df_ethereum = df_ethereum.drop('eth_chaindatasize', 1)\n",
    "df_ethereum = df_ethereum.fillna(0)\n",
    "\n",
    "data['dataset'][1] = df_ethereum\n",
    "data['dataset'][1].info()"
   ]
  },
  {
   "cell_type": "code",
   "execution_count": null,
   "id": "australian-fortune",
   "metadata": {},
   "outputs": [],
   "source": [
    "[report(df, df['Crypto'][0], \"dataset\") for df in data['dataset']]"
   ]
  },
  {
   "cell_type": "code",
   "execution_count": null,
   "id": "biological-coupon",
   "metadata": {},
   "outputs": [],
   "source": [
    "dff = pd.concat(data['dataset'], axis=0) # sha de canviar\n",
    "dff.info()\n",
    "dff.head()"
   ]
  },
  {
   "cell_type": "code",
   "execution_count": null,
   "id": "differential-complexity",
   "metadata": {
    "scrolled": true
   },
   "outputs": [],
   "source": [
    "fig, ax = plt.subplots()\n",
    "for key, grp in dff.groupby(['Crypto']):\n",
    "    ax = grp.plot(ax=ax, kind='line', x='Date', y='Price', label=key)\n",
    "\n",
    "ax.figure.savefig(REP_PATH + \"figures/\" + \"price_comparison_btc_eth.png\")"
   ]
  },
  {
   "cell_type": "code",
   "execution_count": null,
   "id": "jewish-court",
   "metadata": {},
   "outputs": [],
   "source": [
    "pkl.dump(data, open('../data/processed/crypto.pkl', 'wb'), protocol=pkl.HIGHEST_PROTOCOL) # save cleaned data"
   ]
  }
 ],
 "metadata": {
  "kernelspec": {
   "display_name": "Python 3",
   "language": "python",
   "name": "python3"
  },
  "language_info": {
   "codemirror_mode": {
    "name": "ipython",
    "version": 3
   },
   "file_extension": ".py",
   "mimetype": "text/x-python",
   "name": "python",
   "nbconvert_exporter": "python",
   "pygments_lexer": "ipython3",
   "version": "3.9.0"
  }
 },
 "nbformat": 4,
 "nbformat_minor": 5
}
