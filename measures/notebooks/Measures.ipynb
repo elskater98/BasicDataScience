{
 "cells": [
  {
   "cell_type": "markdown",
   "metadata": {},
   "source": [
    "# Sensors measures"
   ]
  },
  {
   "cell_type": "markdown",
   "metadata": {},
   "source": [
    "## 0. Clean Data (Open Refine)"
   ]
  },
  {
   "cell_type": "markdown",
   "metadata": {},
   "source": [
    "## 1. Read Files"
   ]
  },
  {
   "cell_type": "code",
   "execution_count": 23,
   "metadata": {},
   "outputs": [
    {
     "name": "stdout",
     "output_type": "stream",
     "text": [
      "[{'data':                             sensor  value\n",
      "time                                     \n",
      "2017-12-22 11:22:11+00:00  T-DHT11     27\n",
      "2017-12-22 11:22:16+00:00  T-DHT11     28\n",
      "2017-12-22 11:22:20+00:00  T-DHT11     28\n",
      "2017-12-22 11:22:24+00:00  T-DHT11     28\n",
      "2017-12-22 11:22:28+00:00  T-DHT11     28\n",
      "...                            ...    ...\n",
      "2018-03-13 11:41:53+00:00  T-DHT11     26\n",
      "2018-03-13 11:41:57+00:00  T-DHT11     26\n",
      "2018-03-13 11:42:01+00:00  T-DHT11     26\n",
      "2018-03-13 11:42:05+00:00  T-DHT11     26\n",
      "2018-03-13 11:42:09+00:00  T-DHT11     26\n",
      "\n",
      "[1420308 rows x 2 columns], 'type': 'T'}]\n",
      "[{'data':     sensor  value                      time\n",
      "0  T-DM280  26.43 2017-12-22 10:51:31+00:00\n",
      "1  T-DM280  26.43 2017-12-22 10:51:35+00:00\n",
      "2  T-DM280  26.45 2017-12-22 10:51:38+00:00\n",
      "3  T-DM280  26.45 2017-12-22 10:51:41+00:00, 'type': 'T'}]\n"
     ]
    }
   ],
   "source": [
    "import pandas as pd\n",
    "import os\n",
    "\n",
    "csv_files = list()\n",
    "json_files = list()\n",
    "\n",
    "rel_path=\"../data/raw/\"\n",
    "for root, dirs, files in os.walk(rel_path):\n",
    "    for filename in files:\n",
    "        if filename.split('.')[1] == 'csv':\n",
    "            \n",
    "            csv_files.append({\"data\":pd.read_csv(rel_path + filename, parse_dates =[\"time\"], index_col =\"time\"),\"type\":filename.split('-')[0]})\n",
    "        else:\n",
    "            json_files.append({\"data\":pd.read_json(rel_path + filename,lines=True,convert_dates=['time']),\"type\":filename.split('-')[0]})\n",
    "print(csv_files[:1])\n",
    "print(json_files[:1])"
   ]
  },
  {
   "cell_type": "markdown",
   "metadata": {},
   "source": [
    "## 2. Clean Data\n",
    "### 2.1. Rename columns with representable values"
   ]
  },
  {
   "cell_type": "code",
   "execution_count": 32,
   "metadata": {},
   "outputs": [
    {
     "name": "stdout",
     "output_type": "stream",
     "text": [
      "<class 'pandas.core.frame.DataFrame'>\n",
      "DatetimeIndex: 1420308 entries, 2017-12-22 11:22:11+00:00 to 2018-03-13 11:42:09+00:00\n",
      "Data columns (total 2 columns):\n",
      " #   Column       Non-Null Count    Dtype \n",
      "---  ------       --------------    ----- \n",
      " 0   sensor       1420308 non-null  object\n",
      " 1   temperature  1420308 non-null  int64 \n",
      "dtypes: int64(1), object(1)\n",
      "memory usage: 32.5+ MB\n",
      "<class 'pandas.core.frame.DataFrame'>\n",
      "DatetimeIndex: 1428377 entries, 2017-12-20 12:17:05+00:00 to 2018-03-13 11:42:12+00:00\n",
      "Data columns (total 2 columns):\n",
      " #   Column    Non-Null Count    Dtype  \n",
      "---  ------    --------------    -----  \n",
      " 0   sensor    1428377 non-null  object \n",
      " 1   humidity  1428377 non-null  float64\n",
      "dtypes: float64(1), object(1)\n",
      "memory usage: 32.7+ MB\n",
      "<class 'pandas.core.frame.DataFrame'>\n",
      "DatetimeIndex: 1422795 entries, 2017-12-22 10:52:59+00:00 to 2018-03-13 11:42:08+00:00\n",
      "Data columns (total 2 columns):\n",
      " #   Column       Non-Null Count    Dtype  \n",
      "---  ------       --------------    -----  \n",
      " 0   sensor       1422795 non-null  object \n",
      " 1   temperature  1422795 non-null  float64\n",
      "dtypes: float64(1), object(1)\n",
      "memory usage: 32.6+ MB\n",
      "<class 'pandas.core.frame.DataFrame'>\n",
      "DatetimeIndex: 1440150 entries, 2017-12-19 14:07:18+00:00 to 2018-03-13 11:42:10+00:00\n",
      "Data columns (total 2 columns):\n",
      " #   Column       Non-Null Count    Dtype  \n",
      "---  ------       --------------    -----  \n",
      " 0   sensor       1440150 non-null  object \n",
      " 1   temperature  1440150 non-null  float64\n",
      "dtypes: float64(1), object(1)\n",
      "memory usage: 33.0+ MB\n",
      "<class 'pandas.core.frame.DataFrame'>\n",
      "DatetimeIndex: 1440160 entries, 2017-12-19 14:07:18+00:00 to 2018-03-13 11:42:10+00:00\n",
      "Data columns (total 2 columns):\n",
      " #   Column    Non-Null Count    Dtype  \n",
      "---  ------    --------------    -----  \n",
      " 0   sensor    1440160 non-null  object \n",
      " 1   humidity  1440160 non-null  float64\n",
      "dtypes: float64(1), object(1)\n",
      "memory usage: 33.0+ MB\n",
      "<class 'pandas.core.frame.DataFrame'>\n",
      "DatetimeIndex: 1422788 entries, 2017-12-22 10:52:59+00:00 to 2018-03-13 11:42:08+00:00\n",
      "Data columns (total 2 columns):\n",
      " #   Column  Non-Null Count    Dtype  \n",
      "---  ------  --------------    -----  \n",
      " 0   sensor  1422788 non-null  object \n",
      " 1   hPa     1422788 non-null  float64\n",
      "dtypes: float64(1), object(1)\n",
      "memory usage: 32.6+ MB\n",
      "<class 'pandas.core.frame.DataFrame'>\n",
      "RangeIndex: 4 entries, 0 to 3\n",
      "Data columns (total 3 columns):\n",
      " #   Column       Non-Null Count  Dtype              \n",
      "---  ------       --------------  -----              \n",
      " 0   sensor       4 non-null      object             \n",
      " 1   temperature  4 non-null      float64            \n",
      " 2   time         4 non-null      datetime64[ns, UTC]\n",
      "dtypes: datetime64[ns, UTC](1), float64(1), object(1)\n",
      "memory usage: 224.0+ bytes\n",
      "<class 'pandas.core.frame.DataFrame'>\n",
      "RangeIndex: 1420302 entries, 0 to 1420301\n",
      "Data columns (total 3 columns):\n",
      " #   Column    Non-Null Count    Dtype              \n",
      "---  ------    --------------    -----              \n",
      " 0   sensor    1420302 non-null  object             \n",
      " 1   humidity  1420302 non-null  int64              \n",
      " 2   time      1420302 non-null  datetime64[ns, UTC]\n",
      "dtypes: datetime64[ns, UTC](1), int64(1), object(1)\n",
      "memory usage: 32.5+ MB\n",
      "<class 'pandas.core.frame.DataFrame'>\n",
      "RangeIndex: 1428383 entries, 0 to 1428382\n",
      "Data columns (total 3 columns):\n",
      " #   Column       Non-Null Count    Dtype              \n",
      "---  ------       --------------    -----              \n",
      " 0   sensor       1428383 non-null  object             \n",
      " 1   temperature  1428383 non-null  float64            \n",
      " 2   time         1428383 non-null  datetime64[ns, UTC]\n",
      "dtypes: datetime64[ns, UTC](1), float64(1), object(1)\n",
      "memory usage: 32.7+ MB\n",
      "<class 'pandas.core.frame.DataFrame'>\n",
      "RangeIndex: 4 entries, 0 to 3\n",
      "Data columns (total 3 columns):\n",
      " #   Column  Non-Null Count  Dtype              \n",
      "---  ------  --------------  -----              \n",
      " 0   sensor  4 non-null      object             \n",
      " 1   hPa     4 non-null      float64            \n",
      " 2   time    4 non-null      datetime64[ns, UTC]\n",
      "dtypes: datetime64[ns, UTC](1), float64(1), object(1)\n",
      "memory usage: 224.0+ bytes\n"
     ]
    }
   ],
   "source": [
    "for df in (csv_files+json_files):\n",
    "    if df['type']=='H':\n",
    "        df['data'].rename(columns={\"value\":\"humidity\"}, inplace=True)\n",
    "    if df['type'] == 'T':\n",
    "        df['data'].rename(columns={\"value\":\"temperature\"}, inplace=True)\n",
    "    if df['type'] == 'P':\n",
    "        df['data'].rename(columns={\"value\":\"hPa\"}, inplace=True)\n",
    "    df['data']"
   ]
  },
  {
   "cell_type": "markdown",
   "metadata": {},
   "source": [
    "### Convert the time to index"
   ]
  },
  {
   "cell_type": "code",
   "execution_count": 39,
   "metadata": {},
   "outputs": [],
   "source": [
    "for df in json_files:\n",
    "    df['data'].set_index('time')"
   ]
  },
  {
   "cell_type": "code",
   "execution_count": null,
   "metadata": {},
   "outputs": [],
   "source": []
  }
 ],
 "metadata": {
  "kernelspec": {
   "display_name": "Python 3",
   "language": "python",
   "name": "python3"
  },
  "language_info": {
   "codemirror_mode": {
    "name": "ipython",
    "version": 3
   },
   "file_extension": ".py",
   "mimetype": "text/x-python",
   "name": "python",
   "nbconvert_exporter": "python",
   "pygments_lexer": "ipython3",
   "version": "3.8.5"
  }
 },
 "nbformat": 4,
 "nbformat_minor": 5
}
