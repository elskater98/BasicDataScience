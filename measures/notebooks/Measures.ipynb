{
 "cells": [
  {
   "cell_type": "markdown",
   "metadata": {},
   "source": [
    "# Sensors measures"
   ]
  },
  {
   "cell_type": "markdown",
   "metadata": {},
   "source": [
    "## 0. Clean Data (Open Refine)"
   ]
  },
  {
   "cell_type": "markdown",
   "metadata": {},
   "source": [
    "## 1. Read Files"
   ]
  },
  {
   "cell_type": "code",
   "execution_count": 6,
   "metadata": {},
   "outputs": [
    {
     "name": "stdout",
     "output_type": "stream",
     "text": [
      "[{'data':                             sensor  value\n",
      "time                                     \n",
      "2017-12-19 14:07:18+00:00  H-DHT22   15.7\n",
      "2017-12-19 14:07:25+00:00  H-DHT22   15.7\n",
      "2017-12-19 14:07:32+00:00  H-DHT22   15.7\n",
      "2017-12-19 14:07:38+00:00  H-DHT22   15.7\n",
      "2017-12-19 14:07:45+00:00  H-DHT22   15.7\n",
      "...                            ...    ...\n",
      "2018-03-13 11:41:54+00:00  H-DHT22    1.0\n",
      "2018-03-13 11:41:58+00:00  H-DHT22    1.0\n",
      "2018-03-13 11:42:02+00:00  H-DHT22    1.0\n",
      "2018-03-13 11:42:06+00:00  H-DHT22    1.0\n",
      "2018-03-13 11:42:10+00:00  H-DHT22    1.0\n",
      "\n",
      "[1440160 rows x 2 columns], 'type': 'H', 'sensor': 'DHT22'}]\n",
      "[{'data':     sensor    value                      time\n",
      "0  P-DM280  1040.00 2017-12-22 10:51:32+00:00\n",
      "1  P-DM280  1040.00 2017-12-22 10:51:35+00:00\n",
      "2  P-DM280  1039.97 2017-12-22 10:51:38+00:00\n",
      "3  P-DM280  1039.95 2017-12-22 10:51:41+00:00, 'type': 'P', 'sensor': 'DM280'}]\n"
     ]
    }
   ],
   "source": [
    "import pandas as pd\n",
    "import os\n",
    "\n",
    "csv_files = list()\n",
    "json_files = list()\n",
    "\n",
    "rel_path=\"../data/raw/\"\n",
    "for root, dirs, files in os.walk(rel_path):\n",
    "    for filename in files:\n",
    "        split_filename = filename.split('-')\n",
    "        if len(split_filename) == 3 and filename.split('.')[1] == 'csv':\n",
    "            csv_files.append({\"data\":pd.read_csv(rel_path + filename, parse_dates =[\"time\"], index_col =\"time\"),\"type\":split_filename[0],\"sensor\":split_filename[1]})\n",
    "        if len(split_filename) == 3 and filename.split('.')[1] == 'json':\n",
    "            json_files.append({\"data\":pd.read_json(rel_path + filename,lines=True,convert_dates=['time']),\"type\":split_filename[0],\"sensor\":split_filename[1]})\n",
    "print(csv_files[:1])\n",
    "print(json_files[:1])"
   ]
  },
  {
   "cell_type": "markdown",
   "metadata": {},
   "source": [
    "## 2. Clean Data\n",
    "### 2.1. Rename columns with representable values"
   ]
  },
  {
   "cell_type": "code",
   "execution_count": 7,
   "metadata": {},
   "outputs": [
    {
     "name": "stdout",
     "output_type": "stream",
     "text": [
      "<class 'pandas.core.frame.DataFrame'>\n",
      "DatetimeIndex: 1440160 entries, 2017-12-19 14:07:18+00:00 to 2018-03-13 11:42:10+00:00\n",
      "Data columns (total 2 columns):\n",
      " #   Column    Non-Null Count    Dtype  \n",
      "---  ------    --------------    -----  \n",
      " 0   sensor    1440160 non-null  object \n",
      " 1   humidity  1440160 non-null  float64\n",
      "dtypes: float64(1), object(1)\n",
      "memory usage: 33.0+ MB\n",
      "<class 'pandas.core.frame.DataFrame'>\n",
      "DatetimeIndex: 1420308 entries, 2017-12-22 11:22:11+00:00 to 2018-03-13 11:42:09+00:00\n",
      "Data columns (total 2 columns):\n",
      " #   Column       Non-Null Count    Dtype \n",
      "---  ------       --------------    ----- \n",
      " 0   sensor       1420308 non-null  object\n",
      " 1   temperature  1420308 non-null  int64 \n",
      "dtypes: int64(1), object(1)\n",
      "memory usage: 32.5+ MB\n",
      "<class 'pandas.core.frame.DataFrame'>\n",
      "DatetimeIndex: 1440150 entries, 2017-12-19 14:07:18+00:00 to 2018-03-13 11:42:10+00:00\n",
      "Data columns (total 2 columns):\n",
      " #   Column       Non-Null Count    Dtype  \n",
      "---  ------       --------------    -----  \n",
      " 0   sensor       1440150 non-null  object \n",
      " 1   temperature  1440150 non-null  float64\n",
      "dtypes: float64(1), object(1)\n",
      "memory usage: 33.0+ MB\n",
      "<class 'pandas.core.frame.DataFrame'>\n",
      "DatetimeIndex: 1422795 entries, 2017-12-22 10:52:59+00:00 to 2018-03-13 11:42:08+00:00\n",
      "Data columns (total 2 columns):\n",
      " #   Column       Non-Null Count    Dtype  \n",
      "---  ------       --------------    -----  \n",
      " 0   sensor       1422795 non-null  object \n",
      " 1   temperature  1422795 non-null  float64\n",
      "dtypes: float64(1), object(1)\n",
      "memory usage: 32.6+ MB\n",
      "<class 'pandas.core.frame.DataFrame'>\n",
      "DatetimeIndex: 1428377 entries, 2017-12-20 12:17:05+00:00 to 2018-03-13 11:42:12+00:00\n",
      "Data columns (total 2 columns):\n",
      " #   Column    Non-Null Count    Dtype  \n",
      "---  ------    --------------    -----  \n",
      " 0   sensor    1428377 non-null  object \n",
      " 1   humidity  1428377 non-null  float64\n",
      "dtypes: float64(1), object(1)\n",
      "memory usage: 32.7+ MB\n",
      "<class 'pandas.core.frame.DataFrame'>\n",
      "DatetimeIndex: 1422788 entries, 2017-12-22 10:52:59+00:00 to 2018-03-13 11:42:08+00:00\n",
      "Data columns (total 2 columns):\n",
      " #   Column  Non-Null Count    Dtype  \n",
      "---  ------  --------------    -----  \n",
      " 0   sensor  1422788 non-null  object \n",
      " 1   hPa     1422788 non-null  float64\n",
      "dtypes: float64(1), object(1)\n",
      "memory usage: 32.6+ MB\n",
      "<class 'pandas.core.frame.DataFrame'>\n",
      "RangeIndex: 4 entries, 0 to 3\n",
      "Data columns (total 3 columns):\n",
      " #   Column  Non-Null Count  Dtype              \n",
      "---  ------  --------------  -----              \n",
      " 0   sensor  4 non-null      object             \n",
      " 1   hPa     4 non-null      float64            \n",
      " 2   time    4 non-null      datetime64[ns, UTC]\n",
      "dtypes: datetime64[ns, UTC](1), float64(1), object(1)\n",
      "memory usage: 224.0+ bytes\n",
      "<class 'pandas.core.frame.DataFrame'>\n",
      "RangeIndex: 1428383 entries, 0 to 1428382\n",
      "Data columns (total 3 columns):\n",
      " #   Column       Non-Null Count    Dtype              \n",
      "---  ------       --------------    -----              \n",
      " 0   sensor       1428383 non-null  object             \n",
      " 1   temperature  1428383 non-null  float64            \n",
      " 2   time         1428383 non-null  datetime64[ns, UTC]\n",
      "dtypes: datetime64[ns, UTC](1), float64(1), object(1)\n",
      "memory usage: 32.7+ MB\n",
      "<class 'pandas.core.frame.DataFrame'>\n",
      "RangeIndex: 4 entries, 0 to 3\n",
      "Data columns (total 3 columns):\n",
      " #   Column       Non-Null Count  Dtype              \n",
      "---  ------       --------------  -----              \n",
      " 0   sensor       4 non-null      object             \n",
      " 1   temperature  4 non-null      float64            \n",
      " 2   time         4 non-null      datetime64[ns, UTC]\n",
      "dtypes: datetime64[ns, UTC](1), float64(1), object(1)\n",
      "memory usage: 224.0+ bytes\n",
      "<class 'pandas.core.frame.DataFrame'>\n",
      "RangeIndex: 1420302 entries, 0 to 1420301\n",
      "Data columns (total 3 columns):\n",
      " #   Column    Non-Null Count    Dtype              \n",
      "---  ------    --------------    -----              \n",
      " 0   sensor    1420302 non-null  object             \n",
      " 1   humidity  1420302 non-null  int64              \n",
      " 2   time      1420302 non-null  datetime64[ns, UTC]\n",
      "dtypes: datetime64[ns, UTC](1), int64(1), object(1)\n",
      "memory usage: 32.5+ MB\n"
     ]
    }
   ],
   "source": [
    "for df in (csv_files + json_files):\n",
    "    if df['type']=='H':\n",
    "        df['data'].rename(columns={\"value\":\"humidity\"}, inplace=True)\n",
    "    if df['type'] == 'T':\n",
    "        df['data'].rename(columns={\"value\":\"temperature\"}, inplace=True)\n",
    "    if df['type'] == 'P':\n",
    "        df['data'].rename(columns={\"value\":\"hPa\"}, inplace=True)\n",
    "    df['data'].info()"
   ]
  },
  {
   "cell_type": "markdown",
   "metadata": {},
   "source": [
    "### 2.2. Convert time field as index on json files"
   ]
  },
  {
   "cell_type": "code",
   "execution_count": 8,
   "metadata": {},
   "outputs": [
    {
     "name": "stdout",
     "output_type": "stream",
     "text": [
      "<class 'pandas.core.frame.DataFrame'>\n",
      "DatetimeIndex: 4 entries, 2017-12-22 10:51:32+00:00 to 2017-12-22 10:51:41+00:00\n",
      "Data columns (total 2 columns):\n",
      " #   Column  Non-Null Count  Dtype  \n",
      "---  ------  --------------  -----  \n",
      " 0   sensor  4 non-null      object \n",
      " 1   hPa     4 non-null      float64\n",
      "dtypes: float64(1), object(1)\n",
      "memory usage: 96.0+ bytes\n",
      "<class 'pandas.core.frame.DataFrame'>\n",
      "DatetimeIndex: 1428383 entries, 2017-12-20 12:17:05+00:00 to 2018-03-13 11:42:11+00:00\n",
      "Data columns (total 2 columns):\n",
      " #   Column       Non-Null Count    Dtype  \n",
      "---  ------       --------------    -----  \n",
      " 0   sensor       1428383 non-null  object \n",
      " 1   temperature  1428383 non-null  float64\n",
      "dtypes: float64(1), object(1)\n",
      "memory usage: 32.7+ MB\n",
      "<class 'pandas.core.frame.DataFrame'>\n",
      "DatetimeIndex: 4 entries, 2017-12-22 10:51:31+00:00 to 2017-12-22 10:51:41+00:00\n",
      "Data columns (total 2 columns):\n",
      " #   Column       Non-Null Count  Dtype  \n",
      "---  ------       --------------  -----  \n",
      " 0   sensor       4 non-null      object \n",
      " 1   temperature  4 non-null      float64\n",
      "dtypes: float64(1), object(1)\n",
      "memory usage: 96.0+ bytes\n",
      "<class 'pandas.core.frame.DataFrame'>\n",
      "DatetimeIndex: 1420302 entries, 2017-12-22 11:22:11+00:00 to 2018-03-13 11:42:09+00:00\n",
      "Data columns (total 2 columns):\n",
      " #   Column    Non-Null Count    Dtype \n",
      "---  ------    --------------    ----- \n",
      " 0   sensor    1420302 non-null  object\n",
      " 1   humidity  1420302 non-null  int64 \n",
      "dtypes: int64(1), object(1)\n",
      "memory usage: 32.5+ MB\n"
     ]
    }
   ],
   "source": [
    "for df in json_files:\n",
    "    df['data'] = df['data'].set_index('time')\n",
    "    df['data'].info()"
   ]
  },
  {
   "cell_type": "markdown",
   "metadata": {},
   "source": [
    "### 2.3. Drop rows (incomplete or duplicated)"
   ]
  },
  {
   "cell_type": "code",
   "execution_count": 9,
   "metadata": {},
   "outputs": [],
   "source": [
    "for df in (json_files + csv_files):\n",
    "    df['data'].drop_duplicates(inplace=True)\n",
    "    df['data'].dropna(inplace=True)\n",
    "    df['data'].sort_values(by='time',inplace=True)"
   ]
  },
  {
   "cell_type": "markdown",
   "metadata": {},
   "source": [
    "### 2.3. Make the mean by day"
   ]
  },
  {
   "cell_type": "code",
   "execution_count": 17,
   "metadata": {},
   "outputs": [],
   "source": [
    "humidity_sensors = list()\n",
    "temperature_sensors = list()\n",
    "preasure_sensors = list()\n",
    "for df in (csv_files+json_files):\n",
    "    df['data'] = df['data'].resample('D').mean()\n",
    "    df['data']['sensor'] = df['sensor']\n",
    "    df['data'].dropna(inplace=True)\n",
    "    if df['type']=='H':\n",
    "        humidity_sensors.append(df['data'])\n",
    "    if df['type'] == 'T':\n",
    "        temperature_sensors.append(df['data'])\n",
    "    if df['type'] == 'P':\n",
    "        preasure_sensors.append(df['data'])"
   ]
  },
  {
   "cell_type": "code",
   "execution_count": 18,
   "metadata": {},
   "outputs": [
    {
     "name": "stdout",
     "output_type": "stream",
     "text": [
      "[                            humidity sensor\n",
      "time                                       \n",
      "2017-12-19 00:00:00+00:00   9.004444  DHT22\n",
      "2017-12-20 00:00:00+00:00  11.500000  DHT22,                            temperature sensor\n",
      "time                                         \n",
      "2017-12-22 00:00:00+00:00         25.0  DHT11\n",
      "2017-12-23 00:00:00+00:00         19.5  DHT11\n",
      "2017-12-24 00:00:00+00:00         18.0  DHT11\n",
      "2017-12-25 00:00:00+00:00         17.0  DHT11\n",
      "2017-12-26 00:00:00+00:00         16.0  DHT11\n",
      "2017-12-29 00:00:00+00:00         15.0  DHT11,                            temperature sensor\n",
      "time                                         \n",
      "2017-12-19 00:00:00+00:00    25.129787  DHT22\n",
      "2017-12-20 00:00:00+00:00    25.077273  DHT22\n",
      "2017-12-22 00:00:00+00:00    29.130769  DHT22\n",
      "2017-12-23 00:00:00+00:00    21.300000  DHT22\n",
      "2017-12-24 00:00:00+00:00    20.350000  DHT22\n",
      "2017-12-25 00:00:00+00:00    19.250000  DHT22\n",
      "2017-12-26 00:00:00+00:00    18.300000  DHT22\n",
      "2017-12-27 00:00:00+00:00    17.600000  DHT22\n",
      "2017-12-28 00:00:00+00:00    17.250000  DHT22\n",
      "2017-12-29 00:00:00+00:00    16.900000  DHT22,                            temperature  sensor\n",
      "time                                          \n",
      "2017-12-22 00:00:00+00:00    25.592535  BMP280\n",
      "2017-12-23 00:00:00+00:00    21.190000  BMP280\n",
      "2017-12-24 00:00:00+00:00    19.440000  BMP280\n",
      "2017-12-25 00:00:00+00:00    18.290000  BMP280\n",
      "2017-12-26 00:00:00+00:00    17.330000  BMP280\n",
      "2017-12-27 00:00:00+00:00    16.630000  BMP280\n",
      "2017-12-28 00:00:00+00:00    16.265000  BMP280\n",
      "2017-12-29 00:00:00+00:00    15.925000  BMP280\n",
      "2018-01-08 00:00:00+00:00    26.589231  BMP280,                             humidity sensor\n",
      "time                                       \n",
      "2017-12-20 00:00:00+00:00  31.032000  HTU21\n",
      "2017-12-22 00:00:00+00:00  28.028736  HTU21\n",
      "2017-12-23 00:00:00+00:00  31.800000  HTU21\n",
      "2017-12-24 00:00:00+00:00  33.688889  HTU21\n",
      "2017-12-25 00:00:00+00:00  35.550000  HTU21\n",
      "2017-12-26 00:00:00+00:00  38.617647  HTU21\n",
      "2017-12-27 00:00:00+00:00  41.504545  HTU21\n",
      "2017-12-28 00:00:00+00:00  43.800000  HTU21\n",
      "2017-12-29 00:00:00+00:00  45.450000  HTU21\n",
      "2018-01-02 00:00:00+00:00  46.800000  HTU21\n",
      "2018-01-08 00:00:00+00:00  51.266667  HTU21\n",
      "2018-02-05 00:00:00+00:00  49.900000  HTU21\n",
      "2018-02-08 00:00:00+00:00  22.650000  HTU21\n",
      "2018-02-09 00:00:00+00:00  21.750000  HTU21\n",
      "2018-02-27 00:00:00+00:00  20.300000  HTU21\n",
      "2018-03-12 00:00:00+00:00  55.100000  HTU21,                                    hPa  sensor\n",
      "time                                          \n",
      "2017-12-22 00:00:00+00:00  1034.251956  BMP280\n",
      "2017-12-23 00:00:00+00:00  1036.537166  BMP280\n",
      "2017-12-24 00:00:00+00:00  1031.459965  BMP280\n",
      "2017-12-25 00:00:00+00:00  1025.396761  BMP280\n",
      "2017-12-26 00:00:00+00:00  1013.186685  BMP280\n",
      "2017-12-27 00:00:00+00:00  1002.730603  BMP280\n",
      "2017-12-28 00:00:00+00:00  1009.817059  BMP280\n",
      "2017-12-29 00:00:00+00:00  1018.572857  BMP280\n",
      "2017-12-30 00:00:00+00:00  1024.220000  BMP280\n",
      "2018-01-01 00:00:00+00:00  1027.020000  BMP280\n",
      "2018-01-08 00:00:00+00:00  1012.120000  BMP280\n",
      "2018-01-28 00:00:00+00:00  1038.265000  BMP280\n",
      "2018-02-28 00:00:00+00:00   997.308448  BMP280\n",
      "2018-03-01 00:00:00+00:00   990.214563  BMP280\n",
      "2018-03-02 00:00:00+00:00   994.753333  BMP280\n",
      "2018-03-05 00:00:00+00:00   990.645000  BMP280,                                    hPa sensor\n",
      "time                                         \n",
      "2017-12-22 00:00:00+00:00  1039.973333  DM280,                            temperature sensor\n",
      "time                                         \n",
      "2017-12-20 00:00:00+00:00    25.087143  HTU21\n",
      "2017-12-22 00:00:00+00:00    24.335579  HTU21\n",
      "2017-12-23 00:00:00+00:00    20.133445  HTU21\n",
      "2017-12-24 00:00:00+00:00    18.787946  HTU21\n",
      "2017-12-25 00:00:00+00:00    17.667216  HTU21\n",
      "2017-12-26 00:00:00+00:00    16.718125  HTU21\n",
      "2017-12-27 00:00:00+00:00    16.020600  HTU21\n",
      "2017-12-28 00:00:00+00:00    15.657222  HTU21\n",
      "2017-12-29 00:00:00+00:00    15.318000  HTU21\n",
      "2018-01-08 00:00:00+00:00    26.880000  HTU21,                            temperature sensor\n",
      "time                                         \n",
      "2017-12-22 00:00:00+00:00        26.44  DM280,                            humidity sensor\n",
      "time                                      \n",
      "2017-12-22 00:00:00+00:00      33.0  DHT11\n",
      "2017-12-23 00:00:00+00:00      36.0  DHT11\n",
      "2017-12-24 00:00:00+00:00      37.0  DHT11\n",
      "2017-12-26 00:00:00+00:00      38.0  DHT11\n",
      "2017-12-29 00:00:00+00:00      39.0  DHT11]\n"
     ]
    }
   ],
   "source": []
  },
  {
   "cell_type": "code",
   "execution_count": null,
   "metadata": {},
   "outputs": [],
   "source": []
  }
 ],
 "metadata": {
  "kernelspec": {
   "display_name": "Python 3",
   "language": "python",
   "name": "python3"
  },
  "language_info": {
   "codemirror_mode": {
    "name": "ipython",
    "version": 3
   },
   "file_extension": ".py",
   "mimetype": "text/x-python",
   "name": "python",
   "nbconvert_exporter": "python",
   "pygments_lexer": "ipython3",
   "version": "3.8.5"
  }
 },
 "nbformat": 4,
 "nbformat_minor": 5
}
